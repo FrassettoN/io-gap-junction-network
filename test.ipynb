{
 "cells": [
  {
   "cell_type": "code",
   "execution_count": null,
   "id": "e9c47ed8",
   "metadata": {},
   "outputs": [],
   "source": [
    "import bsb.options\n",
    "from bsb import Scaffold, parse_configuration_file\n",
    "\n",
    "# bsb.options.verbosity = 3\n",
    "config = parse_configuration_file(\"configurations/io_test.yaml\", parser=\"yaml\")\n",
    "\n",
    "scaffold = Scaffold(config)\n",
    "scaffold.compile(clear=True)"
   ]
  },
  {
   "cell_type": "code",
   "execution_count": null,
   "id": "9e831e4d",
   "metadata": {},
   "outputs": [],
   "source": [
    "storage = scaffold.storage\n",
    "\n",
    "for cell_name, cell_type in scaffold.cell_types.items():\n",
    "    ps = cell_type.get_placement_set() \n",
    "    pos = ps.load_positions()\n",
    "    print(f\"{len(pos)} {cell_name} placed\")"
   ]
  },
  {
   "cell_type": "code",
   "execution_count": null,
   "id": "857b7514",
   "metadata": {},
   "outputs": [],
   "source": [
    "cs = scaffold.get_connectivity_set(\"gap_io\")\n",
    "for pre_locs, post_locs in cs.load_connections():\n",
    "    pre_cell_id = pre_locs[0]\n",
    "    post_cell_id = post_locs[0]\n",
    "    print(f\"Cell id {pre_cell_id} connects to cell id {post_cell_id}\\n\")"
   ]
  },
  {
   "cell_type": "code",
   "execution_count": null,
   "id": "d7f67051",
   "metadata": {},
   "outputs": [],
   "source": [
    "results = scaffold.run_simulation(\"basal_activity\")"
   ]
  },
  {
   "cell_type": "code",
   "execution_count": null,
   "id": "a5d2a0af",
   "metadata": {},
   "outputs": [],
   "source": [
    "from matplotlib import pylab as plt \n"
   ]
  },
  {
   "cell_type": "code",
   "execution_count": null,
   "id": "30789a1a",
   "metadata": {},
   "outputs": [],
   "source": [
    "signals = results.analogsignals\n"
   ]
  },
  {
   "cell_type": "code",
   "execution_count": null,
   "id": "8ea18f03",
   "metadata": {},
   "outputs": [],
   "source": [
    "# Create a figure with a subplot for each signal\n",
    "fig, axes = plt.subplots(len(signals), 1, figsize=(10, 3*len(signals)), sharex=True)\n",
    "\n",
    "# Handle the case where there's only one signal\n",
    "if len(signals) == 1:\n",
    "    axes = [axes]\n",
    "\n",
    "# Plot each signal in its own subplot\n",
    "for i, signal in enumerate(axes):\n",
    "    axes[i].plot(signals[i].times, signals[i])\n",
    "    axes[i].set_ylabel(f\"Potential ({signals[i].units.dimensionality.string})\")\n",
    "    axes[i].set_title(f'Signal {i}')\n",
    "\n",
    "# Set common x-label\n",
    "plt.xlabel(f\"Time ({signals[0].times.units.dimensionality.string})\")\n",
    "plt.tight_layout()"
   ]
  },
  {
   "cell_type": "code",
   "execution_count": null,
   "id": "3dca1a36",
   "metadata": {},
   "outputs": [],
   "source": [
    "# import numpy as np\n",
    "# import matplotlib.pyplot as plt\n",
    "# from scipy.signal import welch\n",
    "# from scipy.signal import find_peaks\n",
    "\n",
    "# for vm_signal in signals:\n",
    "#     sampling_rate = vm_signal.sampling_rate.rescale('Hz').magnitude\n",
    "#     v_m = vm_signal.magnitude.flatten()\n",
    "\n",
    "#     # Compute power spectral density\n",
    "#     frequencies, power = welch(v_m, fs=sampling_rate, nperseg=2048)\n",
    "\n",
    "#     # Focus on STO frequency range (1–10 Hz)\n",
    "#     sto_band = (frequencies >= 1) & (frequencies <= 100)\n",
    "#     sto_freq = frequencies[sto_band][np.argmax(power[sto_band])]\n",
    "\n",
    "#     # Plot PSD\n",
    "#     plt.semilogy(frequencies, power)\n",
    "#     plt.axvline(sto_freq, color='r', linestyle='--', label=f'STO ~ {sto_freq:.2f} Hz')\n",
    "#     plt.xlabel('Frequency (Hz)')\n",
    "#     plt.ylabel('Power')\n",
    "#     plt.title('Power Spectral Density (STO)')\n",
    "#     plt.legend()\n",
    "#     plt.show()\n",
    "\n",
    "#     print(f\"Estimated STO frequency: {sto_freq:.2f} Hz\")\n",
    "\n",
    "\n",
    "#     # Find peaks and troughs\n",
    "#     peaks, _ = find_peaks(v_m)\n",
    "#     troughs, _ = find_peaks(-v_m)\n",
    "\n",
    "#     # Make sure we align peaks/troughs\n",
    "#     min_len = min(len(peaks), len(troughs))\n",
    "#     amplitudes = np.abs(v_m[peaks[:min_len]] - v_m[troughs[:min_len]])\n",
    "#     mean_amp = np.mean(amplitudes)\n",
    "\n",
    "#     print(f\"Mean STO amplitude: {mean_amp:.2f} mV\")\n",
    "\n"
   ]
  },
  {
   "cell_type": "code",
   "execution_count": null,
   "id": "691c470b",
   "metadata": {},
   "outputs": [],
   "source": [
    "\n"
   ]
  }
 ],
 "metadata": {
  "kernelspec": {
   "display_name": ".venv",
   "language": "python",
   "name": "python3"
  },
  "language_info": {
   "codemirror_mode": {
    "name": "ipython",
    "version": 3
   },
   "file_extension": ".py",
   "mimetype": "text/x-python",
   "name": "python",
   "nbconvert_exporter": "python",
   "pygments_lexer": "ipython3",
   "version": "3.13.0"
  }
 },
 "nbformat": 4,
 "nbformat_minor": 5
}
