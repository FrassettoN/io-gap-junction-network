{
 "cells": [
  {
   "cell_type": "code",
   "execution_count": null,
   "id": "be3923b9",
   "metadata": {},
   "outputs": [],
   "source": [
    "import numpy as np\n",
    "import pandas as pd\n",
    "from matplotlib import pylab as plt \n",
    "import quantities as pq\n",
    "from bsb import Scaffold, parse_configuration_file\n",
    "from IPython.display import HTML, display\n",
    "from utils import extract_device_data, plot_signal"
   ]
  },
  {
   "cell_type": "code",
   "execution_count": null,
   "id": "044374fd",
   "metadata": {},
   "outputs": [],
   "source": [
    "# bsb.options.verbosity = 3\n",
    "config = parse_configuration_file(\"configurations/dcn_io.yaml\", parser=\"yaml\")\n",
    "\n",
    "scaffold = Scaffold(config)\n",
    "scaffold.compile(clear=True)"
   ]
  },
  {
   "cell_type": "code",
   "execution_count": null,
   "id": "b57d8849",
   "metadata": {},
   "outputs": [],
   "source": [
    "storage = scaffold.storage\n",
    "\n",
    "for cell_name, cell_type in scaffold.cell_types.items():\n",
    "    ps = cell_type.get_placement_set() \n",
    "    pos = ps.load_positions()\n",
    "    print(f\"{len(pos)} {cell_name} placed\")"
   ]
  },
  {
   "cell_type": "code",
   "execution_count": null,
   "id": "d52e2440",
   "metadata": {},
   "outputs": [],
   "source": [
    "cs = scaffold.get_connectivity_set(\"dcn_i_to_io\")\n",
    "from_DCNi_to_IO = {}\n",
    "to_IO_from_DCNi = {}\n",
    "for pre_locs, post_locs in cs.load_connections():\n",
    "    pre_cell_id = pre_locs[0]\n",
    "    post_cell_id = post_locs[0]\n",
    "\n",
    "    if pre_cell_id in from_DCNi_to_IO:\n",
    "        from_DCNi_to_IO[pre_cell_id].append(post_cell_id)\n",
    "    else:\n",
    "        from_DCNi_to_IO[pre_cell_id] = [post_cell_id]\n",
    "\n",
    "    if post_cell_id in to_IO_from_DCNi:\n",
    "        to_IO_from_DCNi[post_cell_id].append(pre_cell_id)\n",
    "    else:\n",
    "        to_IO_from_DCNi[post_cell_id] = [pre_cell_id]"
   ]
  },
  {
   "cell_type": "code",
   "execution_count": null,
   "id": "48aba12c",
   "metadata": {},
   "outputs": [],
   "source": [
    "results = scaffold.run_simulation(\"basal_activity\")\n",
    "spiketrains = results.spiketrains\n",
    "signals = results.analogsignals"
   ]
  },
  {
   "cell_type": "code",
   "execution_count": null,
   "id": "3619321f",
   "metadata": {},
   "outputs": [],
   "source": [
    "# Extract device data\n",
    "devices_data = extract_device_data(config)\n",
    "\n",
    "# Create a DataFrame for better display\n",
    "devices_df = pd.DataFrame(devices_data)\n",
    "HTML(devices_df.to_html(index=False))\n"
   ]
  },
  {
   "cell_type": "code",
   "execution_count": null,
   "id": "e25a578d",
   "metadata": {},
   "outputs": [],
   "source": [
    "plot_signal(signal=signals[0], devices=devices_data, title=\"IO EGLIF Membrane Potential\", output=\"test.png\")"
   ]
  }
 ],
 "metadata": {
  "kernelspec": {
   "display_name": ".venv",
   "language": "python",
   "name": "python3"
  },
  "language_info": {
   "codemirror_mode": {
    "name": "ipython",
    "version": 3
   },
   "file_extension": ".py",
   "mimetype": "text/x-python",
   "name": "python",
   "nbconvert_exporter": "python",
   "pygments_lexer": "ipython3",
   "version": "3.10.13"
  }
 },
 "nbformat": 4,
 "nbformat_minor": 5
}
