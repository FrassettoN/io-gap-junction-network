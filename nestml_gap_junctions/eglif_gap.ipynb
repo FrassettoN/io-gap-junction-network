{
 "cells": [
  {
   "cell_type": "code",
   "execution_count": null,
   "id": "d445d9b8",
   "metadata": {},
   "outputs": [],
   "source": [
    "import matplotlib.pyplot as plt\n",
    "import nest\n",
    "import numpy\n",
    "\n",
    "nest.ResetKernel()"
   ]
  },
  {
   "cell_type": "code",
   "execution_count": null,
   "id": "95449259",
   "metadata": {},
   "outputs": [],
   "source": [
    "nest.Install(\"nestml_gap_eglif_cond_alpha_multisyn_module\")"
   ]
  },
  {
   "cell_type": "code",
   "execution_count": null,
   "id": "b7a6aed9",
   "metadata": {},
   "outputs": [],
   "source": [
    "nest.resolution = 0.05\n",
    "\n",
    "neuron = nest.Create(\"eglif_cond_alpha_multisyn_nestml\", 2)\n",
    "neuron.set({\n",
    "        \"V_m\": -45,\n",
    "        \"E_L\": -45,\n",
    "        \"C_m\": 189,\n",
    "        \"tau_m\": 11,\n",
    "        \"I_e\": -18.101,\n",
    "        \"k_adap\": 1.928,\n",
    "        \"k_1\": 0.191,\n",
    "        \"k_2\": 0.090909,\n",
    "\n",
    "        # V Threshold, Refractory Period and Escape rate\n",
    "        \"V_th\": -35,\n",
    "        \"t_ref\": 1,\n",
    "        \"tau_V\": 0.8,\n",
    "        \"lambda_0\": 1.2,\n",
    "\n",
    "        # Reset on Spike\n",
    "        \"V_reset\": -45,\n",
    "        \"A1\": 1810.923,\n",
    "        \"A2\": 1358.197,\n",
    "\n",
    "        # Postsynaptic receptor\n",
    "        \"tau_syn1\": 1,\n",
    "        \"tau_syn2\": 60,\n",
    "        \"E_rev1\": 0,\n",
    "        \"E_rev2\": -80,\n",
    "        })\n",
    "\n",
    "vm = nest.Create(\"voltmeter\", params={\"interval\": 0.1})"
   ]
  },
  {
   "cell_type": "code",
   "execution_count": null,
   "id": "d3d3f0df",
   "metadata": {},
   "outputs": [],
   "source": [
    "\n",
    "neuron[0].V_m = -48.0\n",
    "\n",
    "nest.Connect(vm, neuron, \"all_to_all\")"
   ]
  },
  {
   "cell_type": "code",
   "execution_count": null,
   "id": "a4df82d8",
   "metadata": {},
   "outputs": [],
   "source": [
    "with_gaps = True\n",
    "if with_gaps:\n",
    "    nest.Connect(\n",
    "        neuron, neuron, \n",
    "        {\"rule\": \"all_to_all\", \"allow_autapses\": False}, \n",
    "        {\"synapse_model\": \"gap_junction\", \"weight\": 5}\n",
    "    )"
   ]
  },
  {
   "cell_type": "code",
   "execution_count": null,
   "id": "e3d85c75",
   "metadata": {},
   "outputs": [],
   "source": [
    "# step_current_generator = nest.Create(\"step_current_generator\", params={\"start\": 500, \"stop\": 550, \"amplitude_values\":[10], \"amplitude_times\": [500]})\n",
    "# nest.Connect(step_current_generator, neuron[0])"
   ]
  },
  {
   "cell_type": "code",
   "execution_count": null,
   "id": "c2f3d982",
   "metadata": {},
   "outputs": [],
   "source": [
    "nest.Simulate(1000.0)\n",
    "\n",
    "senders = vm.events[\"senders\"]\n",
    "times = vm.events[\"times\"]\n",
    "v_m_values = vm.events[\"V_m\"]\n",
    "\n",
    "plt.figure(1)\n",
    "plt.plot(\n",
    "    times[numpy.where(senders == 1)], v_m_values[numpy.where(senders == 1)], \"r-\",\n",
    "    label=\"Neuron 1 (V_m = -48.0)\")\n",
    "plt.plot(\n",
    "    times[numpy.where(senders == 2)], v_m_values[numpy.where(senders == 2)], \"g-\", label=\"Neuron 2 (V_m = -45.0)\")\n",
    "plt.legend(loc='upper right')\n",
    "plt.xlabel(\"time (ms)\")\n",
    "plt.ylabel(\"membrane potential (mV)\")\n",
    "plt.show()\n",
    "\n"
   ]
  }
 ],
 "metadata": {
  "kernelspec": {
   "display_name": "cereb_env",
   "language": "python",
   "name": "python3"
  },
  "language_info": {
   "codemirror_mode": {
    "name": "ipython",
    "version": 3
   },
   "file_extension": ".py",
   "mimetype": "text/x-python",
   "name": "python",
   "nbconvert_exporter": "python",
   "pygments_lexer": "ipython3",
   "version": "3.10.13"
  }
 },
 "nbformat": 4,
 "nbformat_minor": 5
}
