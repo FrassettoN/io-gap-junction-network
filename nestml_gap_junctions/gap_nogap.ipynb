{
 "cells": [
  {
   "cell_type": "code",
   "execution_count": null,
   "id": "3121b164",
   "metadata": {},
   "outputs": [],
   "source": [
    "import matplotlib.pyplot as plt\n",
    "import nest\n",
    "import numpy as np"
   ]
  },
  {
   "cell_type": "code",
   "execution_count": null,
   "id": "c2f42fea",
   "metadata": {},
   "outputs": [],
   "source": [
    "def generate_variable_parameters(base_params, variability_factor=10):\n",
    "    variable_params = {}\n",
    "    for key, value in base_params.items():\n",
    "        if value == 0:  # Handle zero values\n",
    "            variable_params[key] = np.random.uniform(-abs(value + 1), abs(value + 1))\n",
    "        else:\n",
    "            min_val = value / variability_factor\n",
    "            max_val = value * variability_factor\n",
    "            variable_params[key] = np.random.uniform(min_val, max_val)\n",
    "    return variable_params"
   ]
  },
  {
   "cell_type": "code",
   "execution_count": null,
   "id": "e1778770",
   "metadata": {},
   "outputs": [],
   "source": [
    "neuron_parameters = {\n",
    "    \"t_ref\": 2,\n",
    "    \"C_m\": 145,\n",
    "    \"V_th\": -55,\n",
    "    \"V_reset\": -75,\n",
    "    \"E_L\": -62,\n",
    "    \"V_min\": -150,\n",
    "    \"V_m\": -60.0,\n",
    "    \"lambda_0\": 0.20,\n",
    "    \"tau_V\": 0.09,\n",
    "    \"tau_m\": 20,\n",
    "    \"I_e\": 16.214,\n",
    "    \"k_adap\": 0.217,\n",
    "    \"k_1\": 0.031,\n",
    "    \"k_2\": 0.023,\n",
    "    \"A1\": 259.988,\n",
    "    \"A2\": 178.01,\n",
    "    \"tau_syn1\": 0.23,\n",
    "    \"tau_syn2\": 10,\n",
    "    \"tau_syn3\": 0.5,\n",
    "    \"E_rev1\": 0,\n",
    "    \"E_rev2\": -80,\n",
    "    \"E_rev3\": 0\n",
    "}"
   ]
  },
  {
   "cell_type": "code",
   "execution_count": null,
   "id": "e5cb0ee4",
   "metadata": {},
   "outputs": [],
   "source": [
    "def simulate(parameters, with_gap):\n",
    "    nest.ResetKernel()\n",
    "    nest.Install(\"nestml_gap_eglif_cond_alpha_multisyn_module\")\n",
    "    nest.resolution = 0.05\n",
    "\n",
    "\n",
    "    neuron = nest.Create(\"eglif_cond_alpha_multisyn_nestml\", 2)\n",
    "    neuron.set(parameters)\n",
    "    neuron[0].V_m = -40.0 \n",
    "\n",
    "    if with_gap:\n",
    "        nest.Connect(\n",
    "                neuron, neuron, \n",
    "                {\"rule\": \"all_to_all\", \"allow_autapses\": False}, \n",
    "                {\"synapse_model\": \"gap_junction\", \"weight\": 20000}\n",
    "            )\n",
    "\n",
    "    vm = nest.Create(\"voltmeter\", params={\"interval\": 0.1})\n",
    "    nest.Connect(vm, neuron, \"all_to_all\")\n",
    "\n",
    "    nest.Simulate(5000.0)\n",
    "    senders = vm.events[\"senders\"]\n",
    "    times = vm.events[\"times\"]\n",
    "    v_m_values = vm.events[\"V_m\"]\n",
    "\n",
    "    return v_m_values"
   ]
  },
  {
   "cell_type": "code",
   "execution_count": null,
   "id": "7ddc258e",
   "metadata": {},
   "outputs": [],
   "source": [
    "def test_gap():\n",
    "    randomized_parameters = generate_variable_parameters(neuron_parameters)\n",
    "\n",
    "    gap_v_m_values = simulate(randomized_parameters, with_gap=True)\n",
    "    nogap_v_m_values = simulate(randomized_parameters, with_gap=False)\n",
    "\n",
    "    are_equal = np.array_equal(gap_v_m_values, nogap_v_m_values)\n",
    "    if are_equal:\n",
    "        return \"Not working\"\n",
    "    else:\n",
    "        return randomized_parameters\n",
    "\n",
    "    "
   ]
  },
  {
   "cell_type": "code",
   "execution_count": null,
   "id": "cbe32064",
   "metadata": {},
   "outputs": [],
   "source": [
    "results = []\n",
    "for i in range(10000):\n",
    "    results.append(test_gap())"
   ]
  },
  {
   "cell_type": "code",
   "execution_count": null,
   "id": "5f930188",
   "metadata": {},
   "outputs": [],
   "source": [
    "for result in results:\n",
    "    if result != \"Not working\":\n",
    "        print(result)"
   ]
  }
 ],
 "metadata": {
  "kernelspec": {
   "display_name": "cereb_env",
   "language": "python",
   "name": "python3"
  },
  "language_info": {
   "codemirror_mode": {
    "name": "ipython",
    "version": 3
   },
   "file_extension": ".py",
   "mimetype": "text/x-python",
   "name": "python",
   "nbconvert_exporter": "python",
   "pygments_lexer": "ipython3",
   "version": "3.10.13"
  }
 },
 "nbformat": 4,
 "nbformat_minor": 5
}
